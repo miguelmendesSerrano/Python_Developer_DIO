{
  "nbformat": 4,
  "nbformat_minor": 0,
  "metadata": {
    "colab": {
      "provenance": [],
      "authorship_tag": "ABX9TyPYzjeal3doOT+EVseTNuQk",
      "include_colab_link": true
    },
    "kernelspec": {
      "name": "python3",
      "display_name": "Python 3"
    },
    "language_info": {
      "name": "python"
    }
  },
  "cells": [
    {
      "cell_type": "markdown",
      "metadata": {
        "id": "view-in-github",
        "colab_type": "text"
      },
      "source": [
        "<a href=\"https://colab.research.google.com/github/miguelmendesSerrano/Python_Developer_DIO/blob/main/Projeto_API_FLASK.ipynb\" target=\"_parent\"><img src=\"https://colab.research.google.com/assets/colab-badge.svg\" alt=\"Open In Colab\"/></a>"
      ]
    },
    {
      "cell_type": "markdown",
      "source": [
        "**API Flask**"
      ],
      "metadata": {
        "id": "bz98LXnsi2Lr"
      }
    },
    {
      "cell_type": "code",
      "source": [
        "!pip install flask\n",
        "!pip install flask_ngrok"
      ],
      "metadata": {
        "id": "aSygP--EjjS8"
      },
      "execution_count": null,
      "outputs": []
    },
    {
      "cell_type": "code",
      "source": [
        "from flask_ngrok import run_with_ngrok\n",
        "from flask import request, jsonify, Flask"
      ],
      "metadata": {
        "id": "byCJjYCGjsyp"
      },
      "execution_count": 51,
      "outputs": []
    },
    {
      "cell_type": "code",
      "source": [
        "dados = [\n",
        "    {\n",
        "    'number': 1,\n",
        "    'name': 'Alex',\n",
        "    'Age': 25},\n",
        "     {\n",
        "    'number': 2,\n",
        "    'name': 'David',\n",
        "    'Age': 33},\n",
        "    {\n",
        "    'number': 3,\n",
        "    'name': 'John',\n",
        "    'Age': 38}]"
      ],
      "metadata": {
        "id": "RwQzaOg7lOml"
      },
      "execution_count": 52,
      "outputs": []
    },
    {
      "cell_type": "code",
      "source": [
        "app = Flask(__name__)\n",
        "run_with_ngrok(app)"
      ],
      "metadata": {
        "id": "sSic9P6jmk5i"
      },
      "execution_count": 53,
      "outputs": []
    },
    {
      "cell_type": "code",
      "source": [
        "@app.route('/', methods=['GET'])\n",
        "\n",
        "def home():\n",
        "  return jsonify(dados)"
      ],
      "metadata": {
        "id": "cM-ktJusmvfC"
      },
      "execution_count": 54,
      "outputs": []
    },
    {
      "cell_type": "code",
      "source": [
        "app.run()"
      ],
      "metadata": {
        "id": "bIe7Gg2JnTU0"
      },
      "execution_count": null,
      "outputs": []
    },
    {
      "cell_type": "markdown",
      "source": [
        "**FastAPI**"
      ],
      "metadata": {
        "id": "P1M1vuICnodi"
      }
    },
    {
      "cell_type": "code",
      "source": [
        "!pip install fastapi nest-asyncio pyngrok uvicorn"
      ],
      "metadata": {
        "id": "fNcdJMNIntcY"
      },
      "execution_count": null,
      "outputs": []
    },
    {
      "cell_type": "code",
      "source": [
        "from fastapi import FastAPI\n",
        "import nest_asyncio\n",
        "from pyngrok import ngrok\n",
        "import uvicorn"
      ],
      "metadata": {
        "id": "aIHyuH_Mn7UV"
      },
      "execution_count": 57,
      "outputs": []
    },
    {
      "cell_type": "code",
      "source": [
        "app_FastAPI = FastAPI()\n",
        "\n",
        "@app_FastAPI.get('/')\n",
        "async def home():\n",
        "  return dados\n",
        "\n",
        "ngrok_tunnel = ngrok.connect(8000)\n",
        "print('Public URL:', ngrok_tunnel.public_url)\n",
        "nest_asyncio.apply()\n",
        "uvicorn.run(app_FastAPI, port=8000)"
      ],
      "metadata": {
        "id": "4EOxdfIVoM-Y"
      },
      "execution_count": null,
      "outputs": []
    }
  ]
}